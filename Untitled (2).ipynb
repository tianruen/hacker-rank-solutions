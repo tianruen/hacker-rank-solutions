{
 "cells": [
  {
   "cell_type": "code",
   "execution_count": 1,
   "id": "1b0d84c4",
   "metadata": {},
   "outputs": [],
   "source": [
    "def climbingLeaderboard(ranked, player):\n",
    "    r = []\n",
    "    ranked = list(set(ranked))\n",
    "    ranked.sort(reverse=True)\n",
    "    \n",
    "    for score in player:\n",
    "        start = 0\n",
    "        end = len(ranked) - 1\n",
    "        middle = (start+end)//2\n",
    "        while start<=end:\n",
    "            if score>ranked[middle]:\n",
    "                end = middle - 1\n",
    "            elif score<ranked[middle]:\n",
    "                start = middle + 1\n",
    "            else:\n",
    "                start=middle\n",
    "                break\n",
    "            middle = (start+end)//2\n",
    "        r.append(start+1)\n",
    "    return r"
   ]
  }
 ],
 "metadata": {
  "kernelspec": {
   "display_name": "Python 3 (ipykernel)",
   "language": "python",
   "name": "python3"
  },
  "language_info": {
   "codemirror_mode": {
    "name": "ipython",
    "version": 3
   },
   "file_extension": ".py",
   "mimetype": "text/x-python",
   "name": "python",
   "nbconvert_exporter": "python",
   "pygments_lexer": "ipython3",
   "version": "3.9.12"
  }
 },
 "nbformat": 4,
 "nbformat_minor": 5
}
